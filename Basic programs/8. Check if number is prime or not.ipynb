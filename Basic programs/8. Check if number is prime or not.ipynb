{
 "cells": [
  {
   "cell_type": "code",
   "execution_count": null,
   "metadata": {},
   "outputs": [],
   "source": [
    "def sol(num):\n",
    "    #checking if number is either 0 or negative in that case it's not a prime number\n",
    "    if num > 1:\n",
    "        # prime number is not a product of two smaller natural numbers\n",
    "        for i in range(2,num):\n",
    "            if num % i == 0:\n",
    "                print (\"{0} is not prime number!\".format(num))\n",
    "                print(i,\"times\",num//i,\"is\",num)\n",
    "                break\n",
    "        else:\n",
    "            print(\"{0} is a prime number!\".format(num))\n",
    "            \n",
    "    else:\n",
    "        print(num,\"is not a prime number\")"
   ]
  },
  {
   "cell_type": "code",
   "execution_count": null,
   "metadata": {},
   "outputs": [],
   "source": [
    "# provide user input\n",
    "num = int(input(\"Enter a number:\"))\n",
    "# calling function\n",
    "sol(num)"
   ]
  }
 ],
 "metadata": {
  "kernelspec": {
   "display_name": "Python 3",
   "language": "python",
   "name": "python3"
  },
  "language_info": {
   "codemirror_mode": {
    "name": "ipython",
    "version": 3
   },
   "file_extension": ".py",
   "mimetype": "text/x-python",
   "name": "python",
   "nbconvert_exporter": "python",
   "pygments_lexer": "ipython3",
   "version": "3.7.6"
  }
 },
 "nbformat": 4,
 "nbformat_minor": 4
}
