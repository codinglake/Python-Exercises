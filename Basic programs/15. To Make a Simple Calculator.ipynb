{
 "cells": [
  {
   "cell_type": "code",
   "execution_count": null,
   "metadata": {},
   "outputs": [],
   "source": [
    "def sol(option,num1,num2):\n",
    "    if option == 'add':\n",
    "        return num1+num2\n",
    "    elif option == 'sub':\n",
    "        return num1-num2\n",
    "    elif option == 'mul':\n",
    "        return num1*num2\n",
    "    elif option == 'div':\n",
    "        return num1/num2\n",
    "    else:\n",
    "        return (\"Invalid\")"
   ]
  },
  {
   "cell_type": "code",
   "execution_count": null,
   "metadata": {
    "scrolled": true
   },
   "outputs": [],
   "source": [
    "num1 = int(input(\"Enter a first number:\"))\n",
    "num2 = int(input(\"Enter a second number:\"))\n",
    "option = str(input(\"Enter a function:\"))\n",
    "print (\"Output:\",sol(option,num1,num2))"
   ]
  }
 ],
 "metadata": {
  "kernelspec": {
   "display_name": "Python 3",
   "language": "python",
   "name": "python3"
  },
  "language_info": {
   "codemirror_mode": {
    "name": "ipython",
    "version": 3
   },
   "file_extension": ".py",
   "mimetype": "text/x-python",
   "name": "python",
   "nbconvert_exporter": "python",
   "pygments_lexer": "ipython3",
   "version": "3.7.6"
  }
 },
 "nbformat": 4,
 "nbformat_minor": 4
}
