{
 "cells": [
  {
   "cell_type": "code",
   "execution_count": null,
   "metadata": {},
   "outputs": [],
   "source": [
    "def sol(start,end):\n",
    "    #check if range is valid\n",
    "    if start > 1 and end > 1:\n",
    "        print(\"The prime numbers between {0} and {1} are:\".format(start,end))\n",
    "        #check in the given interval\n",
    "        for num in range(start,end+1):\n",
    "            for i in range(2,num):\n",
    "                if num%i == 0:\n",
    "                    break\n",
    "            else:\n",
    "                print (num)\n",
    "    else:\n",
    "        print (\"Not a valid range.\")\n",
    "        "
   ]
  },
  {
   "cell_type": "code",
   "execution_count": null,
   "metadata": {
    "scrolled": false
   },
   "outputs": [],
   "source": [
    "start = int(input(\"Enter the lower limit of the range:\"))\n",
    "end = int(input(\"Enter the upper limit of the range:\"))\n",
    "sol(start,end)"
   ]
  }
 ],
 "metadata": {
  "kernelspec": {
   "display_name": "Python 3",
   "language": "python",
   "name": "python3"
  },
  "language_info": {
   "codemirror_mode": {
    "name": "ipython",
    "version": 3
   },
   "file_extension": ".py",
   "mimetype": "text/x-python",
   "name": "python",
   "nbconvert_exporter": "python",
   "pygments_lexer": "ipython3",
   "version": "3.7.6"
  }
 },
 "nbformat": 4,
 "nbformat_minor": 4
}
