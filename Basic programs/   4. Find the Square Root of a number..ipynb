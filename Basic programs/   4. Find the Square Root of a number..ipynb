{
 "cells": [
  {
   "cell_type": "markdown",
   "metadata": {},
   "source": [
    "## For natural numbers\n"
   ]
  },
  {
   "cell_type": "code",
   "execution_count": 16,
   "metadata": {},
   "outputs": [],
   "source": [
    "# function for squreroot \n",
    "def sol(num):\n",
    "    squareroot= int(num) ** 0.5\n",
    "    return squareroot"
   ]
  },
  {
   "cell_type": "code",
   "execution_count": 17,
   "metadata": {},
   "outputs": [
    {
     "name": "stdout",
     "output_type": "stream",
     "text": [
      "Enter a number:4\n",
      " Square Root of 4 is : 2.0\n"
     ]
    }
   ],
   "source": [
    "#porvide the input here\n",
    "num = input(\"Enter a number:\")\n",
    "#getting output\n",
    "print(\" Square Root of {0} is : {1}\".format(num,sol(num)))"
   ]
  },
  {
   "cell_type": "markdown",
   "metadata": {},
   "source": [
    "## For real or complex numbers"
   ]
  },
  {
   "cell_type": "code",
   "execution_count": 18,
   "metadata": {},
   "outputs": [],
   "source": [
    "# Import complex math module\n",
    "import cmath"
   ]
  },
  {
   "cell_type": "code",
   "execution_count": 22,
   "metadata": {},
   "outputs": [],
   "source": [
    "'''function for squareroot of real & complex numbers using \n",
    "sqrt function from cmath'''\n",
    "def sol(num):\n",
    "    squreroot = cmath.sqrt(num)\n",
    "    return squreroot"
   ]
  },
  {
   "cell_type": "code",
   "execution_count": null,
   "metadata": {},
   "outputs": [],
   "source": [
    "#provide complex number here\n",
    "num = complex(input(\"Enter a real or complex number in the format a+bj (e.g: 1+2j):\"))\n",
    "#getting output\n",
    "print(\"Square Root of {0} is : {1:.3f}\".format(num,sol(num)))"
   ]
  }
 ],
 "metadata": {
  "kernelspec": {
   "display_name": "Python 3",
   "language": "python",
   "name": "python3"
  },
  "language_info": {
   "codemirror_mode": {
    "name": "ipython",
    "version": 3
   },
   "file_extension": ".py",
   "mimetype": "text/x-python",
   "name": "python",
   "nbconvert_exporter": "python",
   "pygments_lexer": "ipython3",
   "version": "3.7.6"
  }
 },
 "nbformat": 4,
 "nbformat_minor": 4
}
