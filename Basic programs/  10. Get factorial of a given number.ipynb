{
 "cells": [
  {
   "cell_type": "code",
   "execution_count": null,
   "metadata": {},
   "outputs": [],
   "source": [
    "def sol(num):\n",
    "    # there's no factorial of negative numbers\n",
    "    if (num < 0):\n",
    "        return (\"It's invalid or no factorial exists.\")\n",
    "    # factorial of 0 or 1 is always 1,factorial = num*factorial\n",
    "    else:\n",
    "        return 1 if (num ==0 or num ==1) else num*sol(num -1)"
   ]
  },
  {
   "cell_type": "code",
   "execution_count": null,
   "metadata": {},
   "outputs": [],
   "source": [
    "num = int(input(\"Enter a number:\"))\n",
    "#getting output\n",
    "print (\"Factorial of {0} is: {1}\".format(num,sol(num)))"
   ]
  }
 ],
 "metadata": {
  "kernelspec": {
   "display_name": "Python 3",
   "language": "python",
   "name": "python3"
  },
  "language_info": {
   "codemirror_mode": {
    "name": "ipython",
    "version": 3
   },
   "file_extension": ".py",
   "mimetype": "text/x-python",
   "name": "python",
   "nbconvert_exporter": "python",
   "pygments_lexer": "ipython3",
   "version": "3.7.6"
  }
 },
 "nbformat": 4,
 "nbformat_minor": 4
}
