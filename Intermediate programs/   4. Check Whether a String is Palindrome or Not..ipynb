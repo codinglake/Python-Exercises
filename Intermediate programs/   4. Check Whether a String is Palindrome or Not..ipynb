{
 "cells": [
  {
   "cell_type": "code",
   "execution_count": 2,
   "metadata": {},
   "outputs": [],
   "source": [
    "def sol(str):\n",
    "    # to make it all case insensitive\n",
    "    str = str.casefold()\n",
    "    #reveresing the string to check palindrome or not\n",
    "    rev_str= reversed(str)\n",
    "    if list(str) == list(rev_str):\n",
    "        print(\"String is Palindrome!\")\n",
    "    else:\n",
    "        print(\"String is not Palindrome!\")"
   ]
  },
  {
   "cell_type": "code",
   "execution_count": 4,
   "metadata": {},
   "outputs": [
    {
     "name": "stdout",
     "output_type": "stream",
     "text": [
      "String is Palindrome!\n"
     ]
    }
   ],
   "source": [
    "str = 'ddHHDD'\n",
    "sol(str)"
   ]
  }
 ],
 "metadata": {
  "kernelspec": {
   "display_name": "Python 3",
   "language": "python",
   "name": "python3"
  },
  "language_info": {
   "codemirror_mode": {
    "name": "ipython",
    "version": 3
   },
   "file_extension": ".py",
   "mimetype": "text/x-python",
   "name": "python",
   "nbconvert_exporter": "python",
   "pygments_lexer": "ipython3",
   "version": "3.7.6"
  }
 },
 "nbformat": 4,
 "nbformat_minor": 4
}
