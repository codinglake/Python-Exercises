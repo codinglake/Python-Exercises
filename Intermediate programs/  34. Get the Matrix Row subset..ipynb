{
 "cells": [
  {
   "cell_type": "code",
   "execution_count": 9,
   "metadata": {},
   "outputs": [],
   "source": [
    "def sol(lst,check_lst):\n",
    "    # using any check for all elements of lst\n",
    "    val = [ele for ele in check_lst if any(all(a in sub for a in ele) for sub in lst)]\n",
    "    return str(val)"
   ]
  },
  {
   "cell_type": "code",
   "execution_count": 10,
   "metadata": {},
   "outputs": [
    {
     "name": "stdout",
     "output_type": "stream",
     "text": [
      "[[2, 3], [1, 2], [9, 0]]\n"
     ]
    }
   ],
   "source": [
    "lst = [[4, 1, 2], [2, 3, 4], [9, 8, 0]]\n",
    "check_lst = [[2, 3], [1, 2], [9, 0]]\n",
    "print(sol(lst,check_lst))"
   ]
  }
 ],
 "metadata": {
  "kernelspec": {
   "display_name": "Python 3",
   "language": "python",
   "name": "python3"
  },
  "language_info": {
   "codemirror_mode": {
    "name": "ipython",
    "version": 3
   },
   "file_extension": ".py",
   "mimetype": "text/x-python",
   "name": "python",
   "nbconvert_exporter": "python",
   "pygments_lexer": "ipython3",
   "version": "3.7.6"
  }
 },
 "nbformat": 4,
 "nbformat_minor": 4
}
