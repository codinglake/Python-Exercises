{
 "cells": [
  {
   "cell_type": "code",
   "execution_count": 1,
   "metadata": {},
   "outputs": [],
   "source": [
    "from itertools import groupby\n",
    "import itertools  "
   ]
  },
  {
   "cell_type": "code",
   "execution_count": null,
   "metadata": {},
   "outputs": [],
   "source": [
    "''' EXAMPLE OF itertools.groupby\n",
    "for key, group in groupby([1,1,1,1,5,1,1,1,1,4]):\n",
    "    print(key, list(group))\n",
    "# 1 [1, 1, 1, 1]\n",
    "# 5 [5]\n",
    "# 1 [1, 1, 1, 1]\n",
    "# 4 [4]'''"
   ]
  },
  {
   "cell_type": "code",
   "execution_count": 2,
   "metadata": {},
   "outputs": [],
   "source": [
    "def sol(lst,k):\n",
    "    # get groups of consecutive elements using groupby\n",
    "    for key,val in itertools.groupby(lst):\n",
    "        if key == k:\n",
    "            yield key\n",
    "        else:\n",
    "            yield from val\n",
    "    "
   ]
  },
  {
   "cell_type": "code",
   "execution_count": 5,
   "metadata": {},
   "outputs": [
    {
     "name": "stdout",
     "output_type": "stream",
     "text": [
      "[4, 5, 5, 4, 3, 5, 5, 5, 6, 5, 3]\n"
     ]
    }
   ],
   "source": [
    "lst = [4, 5, 5, 4, 3, 3, 5, 5, 5, 6, 5,3]\n",
    "#k = 3\n",
    "#lst = [3,3,3,3]\n",
    "k = 3\n",
    "output = list(sol(lst,k))\n",
    "print(str(output))"
   ]
  }
 ],
 "metadata": {
  "kernelspec": {
   "display_name": "Python 3",
   "language": "python",
   "name": "python3"
  },
  "language_info": {
   "codemirror_mode": {
    "name": "ipython",
    "version": 3
   },
   "file_extension": ".py",
   "mimetype": "text/x-python",
   "name": "python",
   "nbconvert_exporter": "python",
   "pygments_lexer": "ipython3",
   "version": "3.7.6"
  }
 },
 "nbformat": 4,
 "nbformat_minor": 4
}
