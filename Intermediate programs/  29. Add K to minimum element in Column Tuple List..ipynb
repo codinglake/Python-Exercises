{
 "cells": [
  {
   "cell_type": "code",
   "execution_count": null,
   "metadata": {},
   "outputs": [],
   "source": [
    "'''Input : test_list = [(4, 5), (3, 2), (2, 2), (4, 6), (3, 2), (4, 5)], K = 2\n",
    "Output : [(4, 5), (3, 4), (4, 4), (4, 6), (3, 4), (4, 5)]\n",
    "\n",
    "Input : test_list = [(4, 5), (3, 2), (2, 2), (4, 6), (3, 2), (4, 5)], K = 3\n",
    "Output : [(4, 5), (3, 5), (5, 5), (4, 6), (3, 5), (4, 5)]'''"
   ]
  },
  {
   "cell_type": "code",
   "execution_count": 22,
   "metadata": {},
   "outputs": [],
   "source": [
    "def sol(lst,k):\n",
    "    new_lst = []\n",
    "    # get min value of tuples\n",
    "    min_a = min (a for a,b in lst)\n",
    "    min_b = min (b for a,b in lst)\n",
    "    # compare against above min values\n",
    "    for a,b in lst:\n",
    "        if a == min_a and b == min_b :\n",
    "            new_lst.append((a+k,b+k))\n",
    "        elif a == min_a:\n",
    "            new_lst.append((a+k,b))\n",
    "        elif b == min_b:\n",
    "            new_lst.append((a,b+k))\n",
    "        else:\n",
    "            new_lst.append((a,b))      \n",
    "    return new_lst\n",
    "        \n",
    "    "
   ]
  },
  {
   "cell_type": "code",
   "execution_count": 23,
   "metadata": {},
   "outputs": [
    {
     "name": "stdout",
     "output_type": "stream",
     "text": [
      "[(4, 5), (3, 5), (5, 5), (4, 6), (3, 5), (4, 5)]\n"
     ]
    }
   ],
   "source": [
    "lst = [(4, 5), (3, 2), (2, 2), (4, 6), (3, 2), (4, 5)]\n",
    "k = 3\n",
    "print(sol(lst,k))"
   ]
  }
 ],
 "metadata": {
  "kernelspec": {
   "display_name": "Python 3",
   "language": "python",
   "name": "python3"
  },
  "language_info": {
   "codemirror_mode": {
    "name": "ipython",
    "version": 3
   },
   "file_extension": ".py",
   "mimetype": "text/x-python",
   "name": "python",
   "nbconvert_exporter": "python",
   "pygments_lexer": "ipython3",
   "version": "3.7.6"
  }
 },
 "nbformat": 4,
 "nbformat_minor": 4
}
