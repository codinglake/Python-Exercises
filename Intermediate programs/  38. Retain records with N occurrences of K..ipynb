{
 "cells": [
  {
   "cell_type": "code",
   "execution_count": null,
   "metadata": {},
   "outputs": [],
   "source": [
    "'''Input : test_list = [(4, 5, 5, 4), (5, 4, 3)], K = 5, N = 2\n",
    "Output : [(4, 5, 5, 4)]\n",
    "\n",
    "Input : test_list = [(4, 5, 5, 4), (5, 4, 3)], K = 5, N = 3\n",
    "Output : []'''"
   ]
  },
  {
   "cell_type": "code",
   "execution_count": 34,
   "metadata": {},
   "outputs": [],
   "source": [
    "def sol(lst,k,n):\n",
    "    newlst=[]\n",
    "    # counter for k occurences\n",
    "    count_n = 0\n",
    "    for i in lst:\n",
    "        for j in range(len(i)):\n",
    "            if i[j] == k:\n",
    "                count_n += 1\n",
    "        # check against n\n",
    "        if count_n == n:\n",
    "            newlst.append(i)\n",
    "        count_n = 0\n",
    "\n",
    "                        \n",
    "    return newlst"
   ]
  },
  {
   "cell_type": "code",
   "execution_count": 44,
   "metadata": {},
   "outputs": [
    {
     "name": "stdout",
     "output_type": "stream",
     "text": [
      "[(4, 5, 5, 4)]\n"
     ]
    }
   ],
   "source": [
    "lst = [(4, 5, 5, 4), (5, 4, 3)]\n",
    "k = 5\n",
    "n = 2\n",
    "print(sol(lst,k,n))"
   ]
  }
 ],
 "metadata": {
  "kernelspec": {
   "display_name": "Python 3",
   "language": "python",
   "name": "python3"
  },
  "language_info": {
   "codemirror_mode": {
    "name": "ipython",
    "version": 3
   },
   "file_extension": ".py",
   "mimetype": "text/x-python",
   "name": "python",
   "nbconvert_exporter": "python",
   "pygments_lexer": "ipython3",
   "version": "3.7.6"
  }
 },
 "nbformat": 4,
 "nbformat_minor": 4
}
