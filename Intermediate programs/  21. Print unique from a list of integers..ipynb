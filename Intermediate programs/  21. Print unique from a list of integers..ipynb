{
 "cells": [
  {
   "cell_type": "code",
   "execution_count": 8,
   "metadata": {},
   "outputs": [],
   "source": [
    "def sol(lst):\n",
    "    nlst=[]\n",
    "    dlst=[]\n",
    "    for i in lst:\n",
    "        if i in nlst:\n",
    "            nlst.remove(i)\n",
    "        else:\n",
    "            nlst.append(i)\n",
    "    return nlst"
   ]
  },
  {
   "cell_type": "code",
   "execution_count": 10,
   "metadata": {},
   "outputs": [
    {
     "name": "stdout",
     "output_type": "stream",
     "text": [
      "Unique elements: [2, 4]\n"
     ]
    }
   ],
   "source": [
    "lst =[1,1,2,3,4,3]\n",
    "print(\"Unique elements:\",sol(lst))"
   ]
  }
 ],
 "metadata": {
  "kernelspec": {
   "display_name": "Python 3",
   "language": "python",
   "name": "python3"
  },
  "language_info": {
   "codemirror_mode": {
    "name": "ipython",
    "version": 3
   },
   "file_extension": ".py",
   "mimetype": "text/x-python",
   "name": "python",
   "nbconvert_exporter": "python",
   "pygments_lexer": "ipython3",
   "version": "3.7.6"
  }
 },
 "nbformat": 4,
 "nbformat_minor": 4
}
