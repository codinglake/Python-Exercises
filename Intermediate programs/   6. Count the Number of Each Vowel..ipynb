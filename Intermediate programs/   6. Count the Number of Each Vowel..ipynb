{
 "cells": [
  {
   "cell_type": "code",
   "execution_count": 13,
   "metadata": {},
   "outputs": [],
   "source": [
    "def sol(str):\n",
    "    vowel ='aeiou'\n",
    "    #making str case insensitive\n",
    "    str=str.casefold()\n",
    "    #initiating a dictionary with inital values of aeiou 0\n",
    "    vowel_dic={}.fromkeys(vowel,0)\n",
    "    for char in str:\n",
    "        if char in vowel_dic:\n",
    "            vowel_dic[char] += 1\n",
    "    return vowel_dic\n",
    "            "
   ]
  },
  {
   "cell_type": "code",
   "execution_count": 16,
   "metadata": {},
   "outputs": [
    {
     "name": "stdout",
     "output_type": "stream",
     "text": [
      "{'a': 1, 'e': 4, 'i': 1, 'o': 3, 'u': 0}\n"
     ]
    }
   ],
   "source": [
    "#change the str for paractice\n",
    "str = 'Welcome to the Codinglake!'\n",
    "print(sol(str))"
   ]
  }
 ],
 "metadata": {
  "kernelspec": {
   "display_name": "Python 3",
   "language": "python",
   "name": "python3"
  },
  "language_info": {
   "codemirror_mode": {
    "name": "ipython",
    "version": 3
   },
   "file_extension": ".py",
   "mimetype": "text/x-python",
   "name": "python",
   "nbconvert_exporter": "python",
   "pygments_lexer": "ipython3",
   "version": "3.7.6"
  }
 },
 "nbformat": 4,
 "nbformat_minor": 4
}
