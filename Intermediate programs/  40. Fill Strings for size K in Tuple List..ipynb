{
 "cells": [
  {
   "cell_type": "code",
   "execution_count": null,
   "metadata": {},
   "outputs": [],
   "source": [
    "'''Input : test_list = [(‘Gfg’, ‘is’), (‘best’, ‘for’), (‘CS’, ‘Geeks’)], K = 6, fill_char = ‘#’\n",
    "Output : [(‘Gfg###’, ‘is####’), (‘best##’, ‘for###’), (‘CS####’, ‘Geeks#’)]\n",
    "\n",
    "Input : test_list = [(‘Gfg’, ‘is’), (‘best’, ‘for’), (‘CS’, ‘Geeks’)], K = 5, fill_char = ‘!’\n",
    "Output : [(‘Gfg!!’, ‘is!!!’), (‘best!’, ‘for!!’), (‘CS!!!’, ‘Geeks’)]'''"
   ]
  },
  {
   "cell_type": "code",
   "execution_count": 25,
   "metadata": {},
   "outputs": [],
   "source": [
    "def sol(lst,k,fill_char):\n",
    "    newlst = []\n",
    "    for i in lst:\n",
    "        dummy_tuple =()\n",
    "        for j in i:\n",
    "            l = len(j)\n",
    "            if l < k:\n",
    "                diff = k - l\n",
    "                operation = diff * fill_char\n",
    "                new = (j + operation)\n",
    "                dummy_tuple = dummy_tuple + (new,)\n",
    "            else:\n",
    "                dummy_tuple = dummy_tuple + (j,)\n",
    "        newlst.append(dummy_tuple)\n",
    "        \n",
    "    return newlst\n",
    "    # using list comprehension\n",
    "    #val = [ a + fill_char * (k - len(a)),b + fill_char * (k - len(b))for a,b in lst]"
   ]
  },
  {
   "cell_type": "code",
   "execution_count": 26,
   "metadata": {},
   "outputs": [
    {
     "name": "stdout",
     "output_type": "stream",
     "text": [
      "[('Gfg###', 'is####'), ('best##', 'for###'), ('CS####', 'Students')]\n"
     ]
    }
   ],
   "source": [
    "lst = [('Gfg','is'), ('best', 'for'), ('CS', 'Students')]\n",
    "k = 6\n",
    "fill_char = '#'\n",
    "print(sol(lst,k,fill_char))"
   ]
  }
 ],
 "metadata": {
  "kernelspec": {
   "display_name": "Python 3",
   "language": "python",
   "name": "python3"
  },
  "language_info": {
   "codemirror_mode": {
    "name": "ipython",
    "version": 3
   },
   "file_extension": ".py",
   "mimetype": "text/x-python",
   "name": "python",
   "nbconvert_exporter": "python",
   "pygments_lexer": "ipython3",
   "version": "3.7.6"
  }
 },
 "nbformat": 4,
 "nbformat_minor": 4
}
