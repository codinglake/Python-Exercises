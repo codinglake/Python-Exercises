{
 "cells": [
  {
   "cell_type": "code",
   "execution_count": null,
   "metadata": {},
   "outputs": [],
   "source": [
    "'''Input : test_list = [5, 6, 3, 8, 2, 1, 7, 1], sublist = [8, 2, 3]\n",
    "Output : False\n",
    "\n",
    "Input : test_list = [5, 6, 3, 8, 2, 3, 7, 1], sublist = [8, 2, 3]\n",
    "Output : True'''"
   ]
  },
  {
   "cell_type": "code",
   "execution_count": 15,
   "metadata": {},
   "outputs": [],
   "source": [
    "def sol(lst,sublst):\n",
    "    val = False\n",
    "    for idx in range(len(lst)-len(sublst)):\n",
    "        if lst[idx: + idx + len(sublst)] == sublst:\n",
    "            val = True\n",
    "    return val\n",
    "            "
   ]
  },
  {
   "cell_type": "code",
   "execution_count": 18,
   "metadata": {},
   "outputs": [
    {
     "name": "stdout",
     "output_type": "stream",
     "text": [
      "True\n"
     ]
    }
   ],
   "source": [
    "lst1 = [5, 6, 3, 8, 2, 1, 7, 1]\n",
    "lst2 = [8, 2, 1]\n",
    "print(sol(lst1,lst2))"
   ]
  }
 ],
 "metadata": {
  "kernelspec": {
   "display_name": "Python 3",
   "language": "python",
   "name": "python3"
  },
  "language_info": {
   "codemirror_mode": {
    "name": "ipython",
    "version": 3
   },
   "file_extension": ".py",
   "mimetype": "text/x-python",
   "name": "python",
   "nbconvert_exporter": "python",
   "pygments_lexer": "ipython3",
   "version": "3.7.6"
  }
 },
 "nbformat": 4,
 "nbformat_minor": 4
}
