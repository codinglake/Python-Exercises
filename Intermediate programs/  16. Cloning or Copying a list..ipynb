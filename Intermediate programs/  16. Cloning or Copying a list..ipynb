{
 "cells": [
  {
   "cell_type": "code",
   "execution_count": 7,
   "metadata": {},
   "outputs": [],
   "source": [
    "def sol(lst):\n",
    "    # copying the list to new_lst\n",
    "    new_lst=lst[:]\n",
    "    return new_lst\n",
    "    "
   ]
  },
  {
   "cell_type": "code",
   "execution_count": 8,
   "metadata": {},
   "outputs": [
    {
     "name": "stdout",
     "output_type": "stream",
     "text": [
      "Original list:[4, 6, 3, 2],Cloned list:[4, 6, 3, 2]\n"
     ]
    }
   ],
   "source": [
    "lst = [4,6,3,2]\n",
    "print(\"Original list:{0},Cloned list:{1}\".format(lst,sol(lst)))"
   ]
  }
 ],
 "metadata": {
  "kernelspec": {
   "display_name": "Python 3",
   "language": "python",
   "name": "python3"
  },
  "language_info": {
   "codemirror_mode": {
    "name": "ipython",
    "version": 3
   },
   "file_extension": ".py",
   "mimetype": "text/x-python",
   "name": "python",
   "nbconvert_exporter": "python",
   "pygments_lexer": "ipython3",
   "version": "3.7.6"
  }
 },
 "nbformat": 4,
 "nbformat_minor": 4
}
