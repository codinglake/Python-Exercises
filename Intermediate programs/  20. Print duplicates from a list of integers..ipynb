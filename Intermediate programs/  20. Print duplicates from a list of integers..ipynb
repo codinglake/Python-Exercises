{
 "cells": [
  {
   "cell_type": "code",
   "execution_count": 16,
   "metadata": {},
   "outputs": [],
   "source": [
    "def sol(lst):\n",
    "    nlst= []\n",
    "    dlst=[]\n",
    "    for i in lst:\n",
    "        if i in nlst:\n",
    "            if i not in dlst:\n",
    "                dlst.append(i)\n",
    "        else:\n",
    "            nlst.append(i)\n",
    "    return dlst\n",
    "        "
   ]
  },
  {
   "cell_type": "code",
   "execution_count": 17,
   "metadata": {},
   "outputs": [
    {
     "name": "stdout",
     "output_type": "stream",
     "text": [
      "Duplicate elements: [3, 5, 8, 2]\n"
     ]
    }
   ],
   "source": [
    "lst =[3,5,6,7,8,1,3,5,2,5,8,9,2]\n",
    "print(\"Duplicate elements:\",sol(lst))"
   ]
  }
 ],
 "metadata": {
  "kernelspec": {
   "display_name": "Python 3",
   "language": "python",
   "name": "python3"
  },
  "language_info": {
   "codemirror_mode": {
    "name": "ipython",
    "version": 3
   },
   "file_extension": ".py",
   "mimetype": "text/x-python",
   "name": "python",
   "nbconvert_exporter": "python",
   "pygments_lexer": "ipython3",
   "version": "3.7.6"
  }
 },
 "nbformat": 4,
 "nbformat_minor": 4
}
