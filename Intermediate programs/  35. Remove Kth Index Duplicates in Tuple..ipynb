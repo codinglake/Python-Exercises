{
 "cells": [
  {
   "cell_type": "code",
   "execution_count": null,
   "metadata": {},
   "outputs": [],
   "source": [
    "'''Input : test_list = [(4, 5, 6), (2, 3, 4), (1, 3, 4), (7, 6, 4), (1, 2, 6)], K = 1\n",
    "Output : [(4, 5, 6), (2, 3, 4), (7, 6, 4), (1, 2, 6)]\n",
    "\n",
    "Input : test_list = [(4, 5, 6), (2, 3, 4), (1, 3, 4), (7, 6, 4), (1, 2, 6)], K = 0\n",
    "Output : [(4, 5, 6), (2, 3, 4), (1, 3, 4), (7, 6, 4)]'''"
   ]
  },
  {
   "cell_type": "code",
   "execution_count": 11,
   "metadata": {},
   "outputs": [],
   "source": [
    "def sol(lst,K):\n",
    "    unique = set()\n",
    "    newlst =[]\n",
    "    # looping through tuples\n",
    "    for sub in lst:\n",
    "        if sub[k] not in unique:\n",
    "            newlst.append(sub)\n",
    "            unique.add(sub[k])\n",
    "    return str(newlst)\n",
    "    "
   ]
  },
  {
   "cell_type": "code",
   "execution_count": 12,
   "metadata": {},
   "outputs": [
    {
     "name": "stdout",
     "output_type": "stream",
     "text": [
      "[(4, 5, 6), (2, 3, 4), (7, 6, 4), (1, 2, 6)]\n"
     ]
    }
   ],
   "source": [
    "lst = [(4, 5, 6), (2, 3, 4), (1, 3, 4), (7, 6, 4), (1, 2, 6)]\n",
    "k = 1\n",
    "print(sol(lst,k))"
   ]
  }
 ],
 "metadata": {
  "kernelspec": {
   "display_name": "Python 3",
   "language": "python",
   "name": "python3"
  },
  "language_info": {
   "codemirror_mode": {
    "name": "ipython",
    "version": 3
   },
   "file_extension": ".py",
   "mimetype": "text/x-python",
   "name": "python",
   "nbconvert_exporter": "python",
   "pygments_lexer": "ipython3",
   "version": "3.7.6"
  }
 },
 "nbformat": 4,
 "nbformat_minor": 4
}
