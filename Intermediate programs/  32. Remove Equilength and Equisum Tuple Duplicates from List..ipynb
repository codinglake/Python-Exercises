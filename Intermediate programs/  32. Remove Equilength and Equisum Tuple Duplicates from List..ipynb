{
 "cells": [
  {
   "cell_type": "code",
   "execution_count": 6,
   "metadata": {},
   "outputs": [],
   "source": [
    "def sol(lst):\n",
    "    new_lst =[]\n",
    "    for i in lst:\n",
    "        # compare against earlier tuples in new_lst\n",
    "        for j in new_lst:\n",
    "            if len(i) == len(j) and sum(i) == sum(j):\n",
    "                break\n",
    "        else:\n",
    "                new_lst.append(i)\n",
    "    return new_lst"
   ]
  },
  {
   "cell_type": "code",
   "execution_count": 7,
   "metadata": {},
   "outputs": [
    {
     "name": "stdout",
     "output_type": "stream",
     "text": [
      "[(1, 2, 0)]\n"
     ]
    }
   ],
   "source": [
    "#lst = [(1, 2, 0), (3, 0), (2, 1)]\n",
    "lst = [(1, 2, 0), (3, 0, 0), (0, 2, 1)]\n",
    "print(sol(lst))"
   ]
  }
 ],
 "metadata": {
  "kernelspec": {
   "display_name": "Python 3",
   "language": "python",
   "name": "python3"
  },
  "language_info": {
   "codemirror_mode": {
    "name": "ipython",
    "version": 3
   },
   "file_extension": ".py",
   "mimetype": "text/x-python",
   "name": "python",
   "nbconvert_exporter": "python",
   "pygments_lexer": "ipython3",
   "version": "3.7.6"
  }
 },
 "nbformat": 4,
 "nbformat_minor": 4
}
