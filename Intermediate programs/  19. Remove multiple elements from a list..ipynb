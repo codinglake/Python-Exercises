{
 "cells": [
  {
   "cell_type": "code",
   "execution_count": 3,
   "metadata": {},
   "outputs": [],
   "source": [
    "def sol(lst,ulst):\n",
    "    nlst=[]\n",
    "    for i in lst:\n",
    "        # check element in unwanted list\n",
    "        if i not in ulst:\n",
    "            nlst.append(i)\n",
    "    return nlst"
   ]
  },
  {
   "cell_type": "code",
   "execution_count": 4,
   "metadata": {},
   "outputs": [
    {
     "name": "stdout",
     "output_type": "stream",
     "text": [
      "[3, 4, 34, 77, 23]\n"
     ]
    }
   ],
   "source": [
    "lst =[3,4,6,7,8,6,7,8,34,56,7,77,23]\n",
    "ulst=[7,56,6,8]\n",
    "print(sol(lst,ulst))"
   ]
  }
 ],
 "metadata": {
  "kernelspec": {
   "display_name": "Python 3",
   "language": "python",
   "name": "python3"
  },
  "language_info": {
   "codemirror_mode": {
    "name": "ipython",
    "version": 3
   },
   "file_extension": ".py",
   "mimetype": "text/x-python",
   "name": "python",
   "nbconvert_exporter": "python",
   "pygments_lexer": "ipython3",
   "version": "3.7.6"
  }
 },
 "nbformat": 4,
 "nbformat_minor": 4
}
