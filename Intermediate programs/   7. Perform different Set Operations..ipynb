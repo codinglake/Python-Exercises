{
 "cells": [
  {
   "cell_type": "code",
   "execution_count": 3,
   "metadata": {},
   "outputs": [],
   "source": [
    "def sol(X,Y):\n",
    "    # set union\n",
    "    print(\"Union of X and Y is\",X | Y)\n",
    "\n",
    "    # set intersection\n",
    "    print(\"Intersection of X and Y is\",X & Y)\n",
    "\n",
    "    # set difference\n",
    "    print(\"Difference of X and Y is\",X - Y)\n",
    "\n",
    "    # set symmetric difference\n",
    "    print(\"Symmetric difference of X and Y is\",X ^ Y)"
   ]
  },
  {
   "cell_type": "code",
   "execution_count": 4,
   "metadata": {},
   "outputs": [
    {
     "name": "stdout",
     "output_type": "stream",
     "text": [
      "Union of X and Y is {0, 1, 2, 3, 4, 5, 6, 8}\n",
      "Intersection of X and Y is {2, 4}\n",
      "Difference of X and Y is {0, 8, 6}\n",
      "Symmetric difference of X and Y is {0, 1, 3, 5, 6, 8}\n"
     ]
    }
   ],
   "source": [
    "X = {0, 2, 4, 6, 8}\n",
    "Y = {1, 2, 3, 4, 5}\n",
    "sol(X,Y)"
   ]
  }
 ],
 "metadata": {
  "kernelspec": {
   "display_name": "Python 3",
   "language": "python",
   "name": "python3"
  },
  "language_info": {
   "codemirror_mode": {
    "name": "ipython",
    "version": 3
   },
   "file_extension": ".py",
   "mimetype": "text/x-python",
   "name": "python",
   "nbconvert_exporter": "python",
   "pygments_lexer": "ipython3",
   "version": "3.7.6"
  }
 },
 "nbformat": 4,
 "nbformat_minor": 4
}
