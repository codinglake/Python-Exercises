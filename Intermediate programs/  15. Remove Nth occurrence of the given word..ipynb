{
 "cells": [
  {
   "cell_type": "code",
   "execution_count": null,
   "metadata": {},
   "outputs": [],
   "source": [
    "'''Example:\n",
    "Input: list - [\"can\", \"you\",  \"can\", \"a\", \"can\" \"?\"]\n",
    "       word = can, N = 1\n",
    "Output: list - [\"you\",  \"can\", \"a\", \"can\" \"?\"]'''"
   ]
  },
  {
   "cell_type": "code",
   "execution_count": 4,
   "metadata": {},
   "outputs": [],
   "source": [
    "def sol(lst,word,N):\n",
    "    new_lst=[]\n",
    "    count = 0\n",
    "    for i in lst:\n",
    "        # check for the word\n",
    "        if i == word:\n",
    "            count +=1\n",
    "            # if count is N then don't append\n",
    "            if count != N:\n",
    "                new_lst.append(i)\n",
    "        else:\n",
    "            new_lst.append(i)\n",
    "    return new_lst"
   ]
  },
  {
   "cell_type": "code",
   "execution_count": 5,
   "metadata": {},
   "outputs": [
    {
     "name": "stdout",
     "output_type": "stream",
     "text": [
      "['you', 'can', 'a', 'can', '?']\n"
     ]
    }
   ],
   "source": [
    "lst=[\"can\",\"you\", \"can\",\"a\",\"can\",\"?\"]\n",
    "word = 'can'\n",
    "N = 1\n",
    "print(sol(lst,word,N))"
   ]
  }
 ],
 "metadata": {
  "kernelspec": {
   "display_name": "Python 3",
   "language": "python",
   "name": "python3"
  },
  "language_info": {
   "codemirror_mode": {
    "name": "ipython",
    "version": 3
   },
   "file_extension": ".py",
   "mimetype": "text/x-python",
   "name": "python",
   "nbconvert_exporter": "python",
   "pygments_lexer": "ipython3",
   "version": "3.7.6"
  }
 },
 "nbformat": 4,
 "nbformat_minor": 4
}
