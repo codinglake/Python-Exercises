{
 "cells": [
  {
   "cell_type": "code",
   "execution_count": null,
   "metadata": {},
   "outputs": [],
   "source": [
    "'''Input : test_list = [(5, 6), (2, 4), (5, 7), (2, 5)], sub_list = [5, 4]\n",
    "Output : [(5, 6, 5, 4), (2, 4, 5, 4), (5, 7, 5, 4), (2, 5, 5, 4)]\n",
    "\n",
    "Input : test_list = [(5, 6), (2, 4), (5, 7), (2, 5)], sub_list = [5]\n",
    "Output : [(5, 6, 5), (2, 4, 5), (5, 7, 5), (2, 5, 5)]'''"
   ]
  },
  {
   "cell_type": "code",
   "execution_count": 5,
   "metadata": {},
   "outputs": [],
   "source": [
    "def sol(lst,sub):\n",
    "    newlst=[]\n",
    "    for i in lst:\n",
    "        k = i + tuple(sub)\n",
    "        newlst.append(k)\n",
    "    return newlst\n",
    "\n",
    "    # usinf list comprehension\n",
    "    #res = [(*sub, *sub_list) for sub in test_list] "
   ]
  },
  {
   "cell_type": "code",
   "execution_count": 6,
   "metadata": {},
   "outputs": [
    {
     "name": "stdout",
     "output_type": "stream",
     "text": [
      "[(5, 6, 5, 4), (2, 4, 5, 4), (5, 7, 5, 4), (2, 5, 5, 4)]\n"
     ]
    }
   ],
   "source": [
    "lst = [(5, 6), (2, 4), (5, 7), (2, 5)]\n",
    "sub = [5, 4]\n",
    "print(sol(lst,sub))"
   ]
  }
 ],
 "metadata": {
  "kernelspec": {
   "display_name": "Python 3",
   "language": "python",
   "name": "python3"
  },
  "language_info": {
   "codemirror_mode": {
    "name": "ipython",
    "version": 3
   },
   "file_extension": ".py",
   "mimetype": "text/x-python",
   "name": "python",
   "nbconvert_exporter": "python",
   "pygments_lexer": "ipython3",
   "version": "3.7.6"
  }
 },
 "nbformat": 4,
 "nbformat_minor": 4
}
