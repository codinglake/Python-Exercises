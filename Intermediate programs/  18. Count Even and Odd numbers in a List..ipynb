{
 "cells": [
  {
   "cell_type": "code",
   "execution_count": 8,
   "metadata": {},
   "outputs": [],
   "source": [
    "def sol(lst):\n",
    "    even =[]\n",
    "    odd =[]\n",
    "    for i in lst:\n",
    "        # check if number is even or odd\n",
    "        if i % 2 == 0:\n",
    "            even.append(i)\n",
    "        else:\n",
    "            odd.append(i)\n",
    "    return even,odd\n",
    "    "
   ]
  },
  {
   "cell_type": "code",
   "execution_count": 12,
   "metadata": {},
   "outputs": [
    {
     "name": "stdout",
     "output_type": "stream",
     "text": [
      "Even numbers are: [0, 78]\n",
      "Odd numbers are: [9, 3, 5, 1]\n"
     ]
    }
   ],
   "source": [
    "lst =[9,0,78,3,5,1]\n",
    "even,odd = sol(lst)\n",
    "print(\"Even numbers are:\",even)\n",
    "print(\"Odd numbers are:\",odd)"
   ]
  }
 ],
 "metadata": {
  "kernelspec": {
   "display_name": "Python 3",
   "language": "python",
   "name": "python3"
  },
  "language_info": {
   "codemirror_mode": {
    "name": "ipython",
    "version": 3
   },
   "file_extension": ".py",
   "mimetype": "text/x-python",
   "name": "python",
   "nbconvert_exporter": "python",
   "pygments_lexer": "ipython3",
   "version": "3.7.6"
  }
 },
 "nbformat": 4,
 "nbformat_minor": 4
}
