{
 "cells": [
  {
   "cell_type": "code",
   "execution_count": 12,
   "metadata": {},
   "outputs": [],
   "source": [
    "def sol(str):\n",
    "    new_str =[]\n",
    "    count_wed = 0\n",
    "    for day in str:\n",
    "        # check for third day\n",
    "        if day == 'wed':\n",
    "            if count_wed == 2:\n",
    "                new_str.append('blue')\n",
    "                count_wed = 0\n",
    "            else:\n",
    "                new_str.append(day)\n",
    "                count_wed +=1\n",
    "        else:\n",
    "            new_str.append(day)\n",
    "                \n",
    "           \n",
    "    return new_str"
   ]
  },
  {
   "cell_type": "code",
   "execution_count": 13,
   "metadata": {},
   "outputs": [],
   "source": [
    "str=['mon','tue','wed','thurs','fri','sat','sun','mon','tue','wed','thurs','fri','sat','sun','mon','tue','wed','thurs','fri','sat','sun','mon','tue','wed','thurs','fri','sat','sun',]"
   ]
  },
  {
   "cell_type": "code",
   "execution_count": 14,
   "metadata": {},
   "outputs": [
    {
     "name": "stdout",
     "output_type": "stream",
     "text": [
      "['mon', 'tue', 'wed', 'thurs', 'fri', 'sat', 'sun', 'mon', 'tue', 'wed', 'thurs', 'fri', 'sat', 'sun', 'mon', 'tue', 'blue', 'thurs', 'fri', 'sat', 'sun', 'mon', 'tue', 'wed', 'thurs', 'fri', 'sat', 'sun']\n"
     ]
    }
   ],
   "source": [
    "print(sol(str))"
   ]
  }
 ],
 "metadata": {
  "kernelspec": {
   "display_name": "Python 3",
   "language": "python",
   "name": "python3"
  },
  "language_info": {
   "codemirror_mode": {
    "name": "ipython",
    "version": 3
   },
   "file_extension": ".py",
   "mimetype": "text/x-python",
   "name": "python",
   "nbconvert_exporter": "python",
   "pygments_lexer": "ipython3",
   "version": "3.7.6"
  }
 },
 "nbformat": 4,
 "nbformat_minor": 4
}
