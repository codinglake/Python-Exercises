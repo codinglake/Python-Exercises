{
 "cells": [
  {
   "cell_type": "code",
   "execution_count": 11,
   "metadata": {},
   "outputs": [],
   "source": [
    "def sol(lst):\n",
    "    new_lst =[]\n",
    "    zero_lst=[]\n",
    "    index = 0\n",
    "    for i in range(len(lst)):\n",
    "        if lst[i] == 0:\n",
    "            zero_lst.insert(index,lst[i])\n",
    "        else:\n",
    "            new_lst.insert(index,lst[i])\n",
    "        index += 1\n",
    "        \n",
    "    final = new_lst + zero_lst\n",
    "    return final"
   ]
  },
  {
   "cell_type": "code",
   "execution_count": 12,
   "metadata": {},
   "outputs": [
    {
     "name": "stdout",
     "output_type": "stream",
     "text": [
      "[1, 3, 2, 9, 6, 4, 4, 24, 0, 0, 0, 0]\n"
     ]
    }
   ],
   "source": [
    "lst = [1,3,2,9,0,6,0,0,4,4,0,24]\n",
    "print(sol(lst))"
   ]
  }
 ],
 "metadata": {
  "kernelspec": {
   "display_name": "Python 3",
   "language": "python",
   "name": "python3"
  },
  "language_info": {
   "codemirror_mode": {
    "name": "ipython",
    "version": 3
   },
   "file_extension": ".py",
   "mimetype": "text/x-python",
   "name": "python",
   "nbconvert_exporter": "python",
   "pygments_lexer": "ipython3",
   "version": "3.7.6"
  }
 },
 "nbformat": 4,
 "nbformat_minor": 4
}
