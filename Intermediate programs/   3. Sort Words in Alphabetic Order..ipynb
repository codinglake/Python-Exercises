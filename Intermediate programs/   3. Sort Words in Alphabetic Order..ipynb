{
 "cells": [
  {
   "cell_type": "code",
   "execution_count": 3,
   "metadata": {},
   "outputs": [],
   "source": [
    "def sol(str):\n",
    "    # splitting the sentence\n",
    "    str= str.split()\n",
    "    #sorting the string,defaault is ascending,use str.sort(reverse = True) for descending\n",
    "    str.sort()\n",
    "    return str"
   ]
  },
  {
   "cell_type": "code",
   "execution_count": 9,
   "metadata": {},
   "outputs": [
    {
     "name": "stdout",
     "output_type": "stream",
     "text": [
      "Sorted words:\n",
      "codinglake!\n",
      "to\n",
      "welcome\n"
     ]
    }
   ],
   "source": [
    "#change str to practice more\n",
    "str = \"welcome to codinglake!\"\n",
    "print(\"Sorted words:\")\n",
    "# looping to print each word in new line\n",
    "for word in sol(str):\n",
    "    print(word)"
   ]
  }
 ],
 "metadata": {
  "kernelspec": {
   "display_name": "Python 3",
   "language": "python",
   "name": "python3"
  },
  "language_info": {
   "codemirror_mode": {
    "name": "ipython",
    "version": 3
   },
   "file_extension": ".py",
   "mimetype": "text/x-python",
   "name": "python",
   "nbconvert_exporter": "python",
   "pygments_lexer": "ipython3",
   "version": "3.7.6"
  }
 },
 "nbformat": 4,
 "nbformat_minor": 4
}
